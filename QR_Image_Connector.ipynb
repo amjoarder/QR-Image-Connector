{
  "nbformat": 4,
  "nbformat_minor": 0,
  "metadata": {
    "colab": {
      "provenance": [],
      "gpuType": "T4"
    },
    "kernelspec": {
      "name": "python3",
      "display_name": "Python 3"
    },
    "language_info": {
      "name": "python"
    },
    "accelerator": "GPU"
  },
  "cells": [
    {
      "cell_type": "code",
      "execution_count": 1,
      "metadata": {
        "colab": {
          "base_uri": "https://localhost:8080/"
        },
        "id": "qz5Ekut1zAdp",
        "outputId": "0c00a099-f843-400e-d5ff-87b46404ca9c"
      },
      "outputs": [
        {
          "output_type": "stream",
          "name": "stdout",
          "text": [
            "Collecting qrcode[pil]\n",
            "  Downloading qrcode-8.0-py3-none-any.whl.metadata (17 kB)\n",
            "Requirement already satisfied: pillow>=9.1.0 in /usr/local/lib/python3.10/dist-packages (from qrcode[pil]) (11.0.0)\n",
            "Downloading qrcode-8.0-py3-none-any.whl (45 kB)\n",
            "\u001b[2K   \u001b[90m━━━━━━━━━━━━━━━━━━━━━━━━━━━━━━━━━━━━━━━━\u001b[0m \u001b[32m45.7/45.7 kB\u001b[0m \u001b[31m304.6 kB/s\u001b[0m eta \u001b[36m0:00:00\u001b[0m\n",
            "\u001b[?25hInstalling collected packages: qrcode\n",
            "Successfully installed qrcode-8.0\n"
          ]
        }
      ],
      "source": [
        "!pip install qrcode[pil]\n"
      ]
    },
    {
      "cell_type": "code",
      "source": [
        "import qrcode\n",
        "import matplotlib.pyplot as plt\n",
        "\n",
        "# Google Drive sharable link\n",
        "image_url = \"https://drive.google.com/file/d/1Poq9nD3U_w7KWYZcRCo5H3tgAvCG1FOI/view?usp=sharing\"\n",
        "\n",
        "# Generate the QR code\n",
        "qr = qrcode.QRCode(\n",
        "    version=1,  # Adjust size (1 is smallest, up to 40 for largest)\n",
        "    box_size=10,\n",
        "    border=5\n",
        ")\n",
        "qr.add_data(image_url)  # Add the Google Drive URL to the QR code\n",
        "qr.make(fit=True)\n",
        "\n",
        "# Create and save the QR code image\n",
        "img = qr.make_image(fill='black', back_color='white')\n",
        "img.save(\"qr_code_google_drive.png\")\n",
        "print(\"QR Code saved as qr_code_google_drive.png\")\n",
        "\n",
        "# Display the QR code\n",
        "plt.imshow(img, cmap=\"gray\")\n",
        "plt.axis(\"off\")\n",
        "plt.show()\n"
      ],
      "metadata": {
        "colab": {
          "base_uri": "https://localhost:8080/",
          "height": 424
        },
        "id": "SlWfI1k_zHts",
        "outputId": "3b33b164-44ca-4a90-d681-df12fb526500"
      },
      "execution_count": 5,
      "outputs": [
        {
          "output_type": "stream",
          "name": "stdout",
          "text": [
            "QR Code saved as qr_code_google_drive.png\n"
          ]
        },
        {
          "output_type": "display_data",
          "data": {
            "text/plain": [
              "<Figure size 640x480 with 1 Axes>"
            ],
            "image/png": "[encoded data removed]"
          },
          "metadata": {}
        }
      ]
    }
  ]
}